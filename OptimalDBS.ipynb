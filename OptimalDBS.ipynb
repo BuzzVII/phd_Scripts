{
 "metadata": {
  "name": ""
 },
 "nbformat": 3,
 "nbformat_minor": 0,
 "worksheets": [
  {
   "cells": [
    {
     "cell_type": "raw",
     "metadata": {},
     "source": [
      "This notebook finds the optimal pulse shape for a dbs pulse. The electrode/neuron interaction is modeled as a simple circuit, and the activation parameters are based on the rheobase curve for activating a volume of neurons. The pulse shape is found using Pontryagins maximal principle."
     ]
    },
    {
     "cell_type": "code",
     "collapsed": false,
     "input": [
      "from IPython.display import display\n",
      "\n",
      "from sympy.interactive import printing\n",
      "printing.init_printing()\n",
      "\n",
      "import sympy as sym"
     ],
     "language": "python",
     "metadata": {},
     "outputs": [],
     "prompt_number": 1
    },
    {
     "cell_type": "code",
     "collapsed": false,
     "input": [
      "Vin, Vcb, t, Rb, Vcm, R1, R2, L1, Tb, L2, T1, T2, Tm, Rm= sym.symbols(\"Vin Vcb t Rb Vcm R1 R2 L1 Tb L2 T1 T2 Tm Rm\")\n",
      "#Vcb, Vcm, L1, L2 = map(sym.Function,'vVlL')"
     ],
     "language": "python",
     "metadata": {},
     "outputs": [],
     "prompt_number": 6
    },
    {
     "cell_type": "raw",
     "metadata": {},
     "source": [
      "After finding the Hamiltonian of the system, the input, Vin, needs to be solved for constant energy (H=const.)"
     ]
    },
    {
     "cell_type": "code",
     "collapsed": false,
     "input": [
      "H = (Vin - Vcb(t))**2/Rb + (Vin - Vcm(t))**2/(R1+R2) + Vcm(t)**2/Rm + L1(t)*((Vin  - Vcb(t))/Tb) + L2(t)*((Vin-Vcm(t))/(T1+T2)-Vcm(t)/Tm)\n",
      "dHdVin = sym.diff(H,Vin)"
     ],
     "language": "python",
     "metadata": {},
     "outputs": [],
     "prompt_number": 7
    },
    {
     "cell_type": "code",
     "collapsed": false,
     "input": [
      "print eqn"
     ],
     "language": "python",
     "metadata": {},
     "outputs": [
      {
       "output_type": "stream",
       "stream": "stdout",
       "text": [
        "L2(t)/(T1 + T2) + (2*Vin - 2*Vcm(t))/(R1 + R2) + L1(t)/Tb + (2*Vin - 2*Vcb(t))/Rb == 0\n"
       ]
      }
     ],
     "prompt_number": 8
    },
    {
     "cell_type": "code",
     "collapsed": false,
     "input": [
      "Vin = (-L2(t)/(T1+T2)+2*Vcm/(R1+R2) + L1(t)/Tb + 2.*Vcb/Rb)/(2.*(1./(R1+R2)+1./Rb))"
     ],
     "language": "python",
     "metadata": {},
     "outputs": [],
     "prompt_number": 11
    },
    {
     "cell_type": "raw",
     "metadata": {},
     "source": [
      "Substitute Vin back into the Hamiltonian."
     ]
    },
    {
     "cell_type": "code",
     "collapsed": false,
     "input": [
      "H = (Vin - Vcb)**2/Rb + (Vin - Vcm)**2/(R1+R2) + Vcm**2/Rm + L1*((Vin  - Vcb)/Tb) + L2*((Vin-Vcm)/(T1+T2)-Vcm/Tm)"
     ],
     "language": "python",
     "metadata": {},
     "outputs": [],
     "prompt_number": 16
    },
    {
     "cell_type": "code",
     "collapsed": false,
     "input": [
      "print H"
     ],
     "language": "python",
     "metadata": {},
     "outputs": [
      {
       "output_type": "stream",
       "stream": "stdout",
       "text": [
        "L1*(-Vcb + (2*Vcm/(R1 + R2) - L2(t)/(T1 + T2) + L1(t)/Tb + 2.0*Vcb/Rb)/(2.0/(R1 + R2) + 2.0/Rb))/Tb + L2*((-Vcm + (2*Vcm/(R1 + R2) - L2(t)/(T1 + T2) + L1(t)/Tb + 2.0*Vcb/Rb)/(2.0/(R1 + R2) + 2.0/Rb))/(T1 + T2) - Vcm/Tm) + (-Vcm + (2*Vcm/(R1 + R2) - L2(t)/(T1 + T2) + L1(t)/Tb + 2.0*Vcb/Rb)/(2.0/(R1 + R2) + 2.0/Rb))**2/(R1 + R2) + Vcm**2/Rm + (-Vcb + (2*Vcm/(R1 + R2) - L2(t)/(T1 + T2) + L1(t)/Tb + 2.0*Vcb/Rb)/(2.0/(R1 + R2) + 2.0/Rb))**2/Rb\n"
       ]
      }
     ],
     "prompt_number": 17
    },
    {
     "cell_type": "raw",
     "metadata": {},
     "source": [
      "Find the adjoint variables, L1 and L2"
     ]
    },
    {
     "cell_type": "code",
     "collapsed": false,
     "input": [
      "dHdL1=sym.diff(H,L1)\n",
      "dHdL2=sym.diff(H,L2)"
     ],
     "language": "python",
     "metadata": {},
     "outputs": [],
     "prompt_number": 19
    },
    {
     "cell_type": "code",
     "collapsed": false,
     "input": [
      "print dHdL1\n",
      "print dHdL2"
     ],
     "language": "python",
     "metadata": {},
     "outputs": [
      {
       "output_type": "stream",
       "stream": "stdout",
       "text": [
        "(-Vcb + (2*Vcm/(R1 + R2) - L2(t)/(T1 + T2) + L1(t)/Tb + 2.0*Vcb/Rb)/(2.0/(R1 + R2) + 2.0/Rb))/Tb\n",
        "(-Vcm + (2*Vcm/(R1 + R2) - L2(t)/(T1 + T2) + L1(t)/Tb + 2.0*Vcb/Rb)/(2.0/(R1 + R2) + 2.0/Rb))/(T1 + T2) - Vcm/Tm\n"
       ]
      }
     ],
     "prompt_number": 20
    },
    {
     "cell_type": "code",
     "collapsed": false,
     "input": [],
     "language": "python",
     "metadata": {},
     "outputs": []
    }
   ],
   "metadata": {}
  }
 ]
}